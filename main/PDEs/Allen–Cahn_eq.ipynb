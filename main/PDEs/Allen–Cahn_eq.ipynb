{
 "cells": [
  {
   "cell_type": "markdown",
   "metadata": {},
   "source": [
    "# Mathematics Definition\n",
    "The Allen–Cahn equation is a simple mathematical model for certain phase separation processes. It also serves as a prototypical example for semilinear,  second-order, parabolic partial differential equations. The presence of a small parameter that defines the thickness of interfaces separating different phases makes the analysis challenging. Given $u_0 \\in L^2(\\Omega), \\epsilon>0\\ and\\ T > 0$, we seek a function $u :[0, T ]\\times\\Omega \\rightarrow \\mathbb{R}$ that solves\n",
    "\n",
    "$$\\frac{\\partial u}{\\partial t} = \\epsilon^{2}\\Delta{u}- f(u)$$\n",
    "\n",
    "with $$u(0) = u_0,\\   \\ \\ \\ \\ \\partial_n{u}(t,\\cdot)\\mid_{\\partial{\\Omega}} = 0$$\n",
    "\n",
    "\n",
    "\n",
    "for almost every $t \\in [0, T ]$ and with $f = F'$ for a nonnegative function $F \\in C^1(R)$ satisfying $F(±1) = 0$"
   ]
  },
  {
   "cell_type": "markdown",
   "metadata": {},
   "source": [
    "Note: Its mathematical deduction can be found in sources:\n",
    "\n",
    "https://personal.math.ubc.ca/~jcwei/manuelcourse4.pdf by UBC\n",
    "\n",
    "Constructing Solutions to The ALLEN-CAHN Equation by Standford\n",
    "https://stanford.edu/~jmarxkuo/SURIM_Allen_Cahn_Project_2020_Final_Paper.pdf#:~:text=The%20Allen-Cahn%20equation%20%0F20u%3D%20u3u%3D%20W%28u%29%20is%20an,the%20critical%20points%20of%20the%20energy%20functional%20R"
   ]
  },
  {
   "cell_type": "markdown",
   "metadata": {},
   "source": [
    "# Physical interpretation\n"
   ]
  },
  {
   "cell_type": "markdown",
   "metadata": {},
   "source": [
    "## Background\n",
    "The diffusive-interface phase field approach for modeling the musicale morphological pattern formation and interface motion has been the subject of extensive investigation in variety of physical phenomena in applied sciences and engineering applications. \n",
    "\n",
    "The Allen-Cahn equation is one of the basic model for the diffuse interface approach that is developed to study phase transitions and interfacial dynamic in material science, which was originally introduced by Allen and Cahn to describe the motion of anti-phase boundaries in crystalline solids. \n",
    "\n",
    "The model was proposed to replace the singular macroscopic treatment of a discontinuous surface with a smooth one. As a result, an interface can be induced by the singularities in the sharp interface description. Currently, the Allen-Cahn equation has been significantly applied to crystal growth, phase transitions, image analysis, grain growth and so forth. Due to its broad application, there is"
   ]
  },
  {
   "cell_type": "markdown",
   "metadata": {},
   "source": [
    "## Physical meanings of parameters and formulas"
   ]
  },
  {
   "cell_type": "markdown",
   "metadata": {},
   "source": [
    "* The small positive parameter $\\epsilon$, when compared to the characteristic length of the laboratory scale, is normally referred as the inter-facial width. \n",
    "\n",
    "\n",
    "* The quantity u is defined as the difference between the concentrations of the two components in a mixture. When the mixtures can not pass through the boundary walls, the homogeneous boundary condition is physically used.\n",
    "\n",
    "\n",
    "* The nonlinear term $f(u)$ is the Helmholtz free energy density when the polynomial double-well potential forms $f (u) = u^3 − u$.  \n",
    "\n",
    "\n",
    "*  As a result, the Allen-Cahn equation is the $L_2$−gradient flow of the following Ginzburg-Landau free energy functional\n",
    "$$E(u)=\\int_\\Omega{(\\frac{\\epsilon^2}{2}|\\nabla^2{u}}+F(u))|d\\Omega$$\n",
    "where $F(u) = \\frac{1}{4} (u^2 − 1)^2$. Additionally, we find that the solution of the Allen-Cahn equation satisfies the energy-decaying property as follow:\n",
    "$$\\frac{dE(u(t))}{dt} = -\\int_\\Omega{|u_t|^2}d\\Omega\\le0$$\n",
    "\n",
    "which suggests that the total energy is decreasing in time $E(u(t_2 )) ≤ E(u(t_1 ))$ when $t_1 < t_2 \\in (0, T]$."
   ]
  },
  {
   "cell_type": "markdown",
   "metadata": {},
   "source": [
    "## Example\n",
    "Let $\\Omega \\subseteq R^N$ of a “binary mixture”: Two materials coexisting (or one material in two phases). We can take as an example of this: Water in solid phase (+1), and water in liquid phase (−1). The configuration of this mixture in $\\Omega$ can be described as a function\n",
    "$$u(x) = \\begin{cases}\n",
    "+1 \\ \\ \\  in \\ \\ \\ \\Lambda\\\\\n",
    "-1 \\ \\ \\  in \\ \\ \\ \\Omega\n",
    "\\end{cases}\n",
    "$$\n"
   ]
  },
  {
   "cell_type": "code",
   "execution_count": null,
   "metadata": {},
   "outputs": [],
   "source": []
  }
 ],
 "metadata": {
  "kernelspec": {
   "display_name": "Python 3",
   "language": "python",
   "name": "python3"
  },
  "language_info": {
   "codemirror_mode": {
    "name": "ipython",
    "version": 3
   },
   "file_extension": ".py",
   "mimetype": "text/x-python",
   "name": "python",
   "nbconvert_exporter": "python",
   "pygments_lexer": "ipython3",
   "version": "3.8.5"
  },
  "toc": {
   "base_numbering": 1,
   "nav_menu": {},
   "number_sections": true,
   "sideBar": true,
   "skip_h1_title": false,
   "title_cell": "Table of Contents",
   "title_sidebar": "Contents",
   "toc_cell": false,
   "toc_position": {},
   "toc_section_display": true,
   "toc_window_display": false
  },
  "varInspector": {
   "cols": {
    "lenName": 16,
    "lenType": 16,
    "lenVar": 40
   },
   "kernels_config": {
    "python": {
     "delete_cmd_postfix": "",
     "delete_cmd_prefix": "del ",
     "library": "var_list.py",
     "varRefreshCmd": "print(var_dic_list())"
    },
    "r": {
     "delete_cmd_postfix": ") ",
     "delete_cmd_prefix": "rm(",
     "library": "var_list.r",
     "varRefreshCmd": "cat(var_dic_list()) "
    }
   },
   "types_to_exclude": [
    "module",
    "function",
    "builtin_function_or_method",
    "instance",
    "_Feature"
   ],
   "window_display": false
  }
 },
 "nbformat": 4,
 "nbformat_minor": 4
}
